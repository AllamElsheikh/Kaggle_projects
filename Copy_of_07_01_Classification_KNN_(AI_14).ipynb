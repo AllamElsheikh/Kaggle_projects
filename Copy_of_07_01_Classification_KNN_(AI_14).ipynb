{
  "nbformat": 4,
  "nbformat_minor": 0,
  "metadata": {
    "colab": {
      "provenance": [],
      "include_colab_link": true
    },
    "kernelspec": {
      "name": "python3",
      "display_name": "Python 3"
    },
    "language_info": {
      "name": "python"
    }
  },
  "cells": [
    {
      "cell_type": "markdown",
      "metadata": {
        "id": "view-in-github",
        "colab_type": "text"
      },
      "source": [
        "<a href=\"https://colab.research.google.com/github/AllamElsheikh/Kaggle_projects/blob/main/Copy_of_07_01_Classification_KNN_(AI_14).ipynb\" target=\"_parent\"><img src=\"https://colab.research.google.com/assets/colab-badge.svg\" alt=\"Open In Colab\"/></a>"
      ]
    },
    {
      "cell_type": "markdown",
      "source": [
        "# **KNN Algorithm**"
      ],
      "metadata": {
        "id": "ObD6wzWTg7QF"
      }
    },
    {
      "cell_type": "markdown",
      "source": [
        "![image.png](data:image/png;base64,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)"
      ],
      "metadata": {
        "id": "bu7YuOnLhF6H"
      }
    },
    {
      "cell_type": "code",
      "source": [
        "# Importing the libraries\n",
        "import numpy as np\n",
        "import matplotlib.pyplot as plt\n",
        "import pandas as pd\n",
        "from sklearn.metrics import classification_report, confusion_matrix ,accuracy_score , recall_score , ConfusionMatrixDisplay\n",
        "from sklearn.preprocessing import StandardScaler\n",
        "from sklearn.neighbors import KNeighborsClassifier\n",
        "from sklearn.model_selection import train_test_split\n",
        "from sklearn.svm import SVC\n",
        "from sklearn.tree import DecisionTreeClassifier\n",
        "\n",
        "# import warnings\n",
        "# warnings.filterwarnings('ignore')"
      ],
      "metadata": {
        "id": "6_5xUmp9n8Qh"
      },
      "execution_count": null,
      "outputs": []
    },
    {
      "cell_type": "code",
      "source": [
        "# Importing the dataset\n",
        "# Social Networks Ads\n",
        "dataset = pd.read_csv('https://raw.githubusercontent.com/shivang98/Social-Network-ads-Boost/master/Social_Network_Ads.csv')\n",
        "print(dataset.head())\n",
        "print(type(dataset))\n"
      ],
      "metadata": {
        "colab": {
          "base_uri": "https://localhost:8080/"
        },
        "id": "UmQgr4hWn8VY",
        "outputId": "27486834-1333-4328-b7f3-befd652d94a8"
      },
      "execution_count": null,
      "outputs": [
        {
          "output_type": "stream",
          "name": "stdout",
          "text": [
            "    User ID  Gender  Age  EstimatedSalary  Purchased\n",
            "0  15624510    Male   19            19000          0\n",
            "1  15810944    Male   35            20000          0\n",
            "2  15668575  Female   26            43000          0\n",
            "3  15603246  Female   27            57000          0\n",
            "4  15804002    Male   19            76000          0\n",
            "<class 'pandas.core.frame.DataFrame'>\n"
          ]
        }
      ]
    },
    {
      "cell_type": "code",
      "source": [
        "dataset.tail()"
      ],
      "metadata": {
        "colab": {
          "base_uri": "https://localhost:8080/",
          "height": 206
        },
        "id": "SlbzP6f_n8hK",
        "outputId": "fb5a9b1d-70b8-4437-fe1e-67b484c108f4"
      },
      "execution_count": null,
      "outputs": [
        {
          "output_type": "execute_result",
          "data": {
            "text/plain": [
              "      User ID  Gender  Age  EstimatedSalary  Purchased\n",
              "395  15691863  Female   46            41000          1\n",
              "396  15706071    Male   51            23000          1\n",
              "397  15654296  Female   50            20000          1\n",
              "398  15755018    Male   36            33000          0\n",
              "399  15594041  Female   49            36000          1"
            ],
            "text/html": [
              "\n",
              "  <div id=\"df-3fb4fa8d-21f7-4ea1-9aa4-e228ef7ccfe8\">\n",
              "    <div class=\"colab-df-container\">\n",
              "      <div>\n",
              "<style scoped>\n",
              "    .dataframe tbody tr th:only-of-type {\n",
              "        vertical-align: middle;\n",
              "    }\n",
              "\n",
              "    .dataframe tbody tr th {\n",
              "        vertical-align: top;\n",
              "    }\n",
              "\n",
              "    .dataframe thead th {\n",
              "        text-align: right;\n",
              "    }\n",
              "</style>\n",
              "<table border=\"1\" class=\"dataframe\">\n",
              "  <thead>\n",
              "    <tr style=\"text-align: right;\">\n",
              "      <th></th>\n",
              "      <th>User ID</th>\n",
              "      <th>Gender</th>\n",
              "      <th>Age</th>\n",
              "      <th>EstimatedSalary</th>\n",
              "      <th>Purchased</th>\n",
              "    </tr>\n",
              "  </thead>\n",
              "  <tbody>\n",
              "    <tr>\n",
              "      <th>395</th>\n",
              "      <td>15691863</td>\n",
              "      <td>Female</td>\n",
              "      <td>46</td>\n",
              "      <td>41000</td>\n",
              "      <td>1</td>\n",
              "    </tr>\n",
              "    <tr>\n",
              "      <th>396</th>\n",
              "      <td>15706071</td>\n",
              "      <td>Male</td>\n",
              "      <td>51</td>\n",
              "      <td>23000</td>\n",
              "      <td>1</td>\n",
              "    </tr>\n",
              "    <tr>\n",
              "      <th>397</th>\n",
              "      <td>15654296</td>\n",
              "      <td>Female</td>\n",
              "      <td>50</td>\n",
              "      <td>20000</td>\n",
              "      <td>1</td>\n",
              "    </tr>\n",
              "    <tr>\n",
              "      <th>398</th>\n",
              "      <td>15755018</td>\n",
              "      <td>Male</td>\n",
              "      <td>36</td>\n",
              "      <td>33000</td>\n",
              "      <td>0</td>\n",
              "    </tr>\n",
              "    <tr>\n",
              "      <th>399</th>\n",
              "      <td>15594041</td>\n",
              "      <td>Female</td>\n",
              "      <td>49</td>\n",
              "      <td>36000</td>\n",
              "      <td>1</td>\n",
              "    </tr>\n",
              "  </tbody>\n",
              "</table>\n",
              "</div>\n",
              "      <button class=\"colab-df-convert\" onclick=\"convertToInteractive('df-3fb4fa8d-21f7-4ea1-9aa4-e228ef7ccfe8')\"\n",
              "              title=\"Convert this dataframe to an interactive table.\"\n",
              "              style=\"display:none;\">\n",
              "        \n",
              "  <svg xmlns=\"http://www.w3.org/2000/svg\" height=\"24px\"viewBox=\"0 0 24 24\"\n",
              "       width=\"24px\">\n",
              "    <path d=\"M0 0h24v24H0V0z\" fill=\"none\"/>\n",
              "    <path d=\"M18.56 5.44l.94 2.06.94-2.06 2.06-.94-2.06-.94-.94-2.06-.94 2.06-2.06.94zm-11 1L8.5 8.5l.94-2.06 2.06-.94-2.06-.94L8.5 2.5l-.94 2.06-2.06.94zm10 10l.94 2.06.94-2.06 2.06-.94-2.06-.94-.94-2.06-.94 2.06-2.06.94z\"/><path d=\"M17.41 7.96l-1.37-1.37c-.4-.4-.92-.59-1.43-.59-.52 0-1.04.2-1.43.59L10.3 9.45l-7.72 7.72c-.78.78-.78 2.05 0 2.83L4 21.41c.39.39.9.59 1.41.59.51 0 1.02-.2 1.41-.59l7.78-7.78 2.81-2.81c.8-.78.8-2.07 0-2.86zM5.41 20L4 18.59l7.72-7.72 1.47 1.35L5.41 20z\"/>\n",
              "  </svg>\n",
              "      </button>\n",
              "      \n",
              "  <style>\n",
              "    .colab-df-container {\n",
              "      display:flex;\n",
              "      flex-wrap:wrap;\n",
              "      gap: 12px;\n",
              "    }\n",
              "\n",
              "    .colab-df-convert {\n",
              "      background-color: #E8F0FE;\n",
              "      border: none;\n",
              "      border-radius: 50%;\n",
              "      cursor: pointer;\n",
              "      display: none;\n",
              "      fill: #1967D2;\n",
              "      height: 32px;\n",
              "      padding: 0 0 0 0;\n",
              "      width: 32px;\n",
              "    }\n",
              "\n",
              "    .colab-df-convert:hover {\n",
              "      background-color: #E2EBFA;\n",
              "      box-shadow: 0px 1px 2px rgba(60, 64, 67, 0.3), 0px 1px 3px 1px rgba(60, 64, 67, 0.15);\n",
              "      fill: #174EA6;\n",
              "    }\n",
              "\n",
              "    [theme=dark] .colab-df-convert {\n",
              "      background-color: #3B4455;\n",
              "      fill: #D2E3FC;\n",
              "    }\n",
              "\n",
              "    [theme=dark] .colab-df-convert:hover {\n",
              "      background-color: #434B5C;\n",
              "      box-shadow: 0px 1px 3px 1px rgba(0, 0, 0, 0.15);\n",
              "      filter: drop-shadow(0px 1px 2px rgba(0, 0, 0, 0.3));\n",
              "      fill: #FFFFFF;\n",
              "    }\n",
              "  </style>\n",
              "\n",
              "      <script>\n",
              "        const buttonEl =\n",
              "          document.querySelector('#df-3fb4fa8d-21f7-4ea1-9aa4-e228ef7ccfe8 button.colab-df-convert');\n",
              "        buttonEl.style.display =\n",
              "          google.colab.kernel.accessAllowed ? 'block' : 'none';\n",
              "\n",
              "        async function convertToInteractive(key) {\n",
              "          const element = document.querySelector('#df-3fb4fa8d-21f7-4ea1-9aa4-e228ef7ccfe8');\n",
              "          const dataTable =\n",
              "            await google.colab.kernel.invokeFunction('convertToInteractive',\n",
              "                                                     [key], {});\n",
              "          if (!dataTable) return;\n",
              "\n",
              "          const docLinkHtml = 'Like what you see? Visit the ' +\n",
              "            '<a target=\"_blank\" href=https://colab.research.google.com/notebooks/data_table.ipynb>data table notebook</a>'\n",
              "            + ' to learn more about interactive tables.';\n",
              "          element.innerHTML = '';\n",
              "          dataTable['output_type'] = 'display_data';\n",
              "          await google.colab.output.renderOutput(dataTable, element);\n",
              "          const docLink = document.createElement('div');\n",
              "          docLink.innerHTML = docLinkHtml;\n",
              "          element.appendChild(docLink);\n",
              "        }\n",
              "      </script>\n",
              "    </div>\n",
              "  </div>\n",
              "  "
            ]
          },
          "metadata": {},
          "execution_count": 4
        }
      ]
    },
    {
      "cell_type": "code",
      "source": [
        "X = dataset.iloc[: , [2, 3]].values\n",
        "y = dataset.iloc[:, -1].values\n",
        "# y = dataset.Purchased\n",
        "# y = dataset['Purchased']\n",
        "# First 5 rows of X\n",
        "X[:5]"
      ],
      "metadata": {
        "colab": {
          "base_uri": "https://localhost:8080/"
        },
        "id": "CuMPghoLn8kN",
        "outputId": "556d45fb-1f5e-48c9-c25d-0abfd681b921"
      },
      "execution_count": null,
      "outputs": [
        {
          "output_type": "execute_result",
          "data": {
            "text/plain": [
              "array([[   19, 19000],\n",
              "       [   35, 20000],\n",
              "       [   26, 43000],\n",
              "       [   27, 57000],\n",
              "       [   19, 76000]])"
            ]
          },
          "metadata": {},
          "execution_count": 8
        }
      ]
    },
    {
      "cell_type": "code",
      "source": [
        "dataset.describe().transpose()"
      ],
      "metadata": {
        "colab": {
          "base_uri": "https://localhost:8080/",
          "height": 175
        },
        "id": "HG2WYt44uMJn",
        "outputId": "5c18c8c8-26ee-4f7e-f618-61c8f73473cb"
      },
      "execution_count": null,
      "outputs": [
        {
          "output_type": "execute_result",
          "data": {
            "text/plain": [
              "                 count          mean           std         min          25%  \\\n",
              "User ID          400.0  1.569154e+07  71658.321581  15566689.0  15626763.75   \n",
              "Age              400.0  3.765500e+01     10.482877        18.0        29.75   \n",
              "EstimatedSalary  400.0  6.974250e+04  34096.960282     15000.0     43000.00   \n",
              "Purchased        400.0  3.575000e-01      0.479864         0.0         0.00   \n",
              "\n",
              "                        50%         75%         max  \n",
              "User ID          15694341.5  15750363.0  15815236.0  \n",
              "Age                    37.0        46.0        60.0  \n",
              "EstimatedSalary     70000.0     88000.0    150000.0  \n",
              "Purchased               0.0         1.0         1.0  "
            ],
            "text/html": [
              "\n",
              "  <div id=\"df-1986b8c5-1f2e-48e8-83ca-8157598a6ce8\">\n",
              "    <div class=\"colab-df-container\">\n",
              "      <div>\n",
              "<style scoped>\n",
              "    .dataframe tbody tr th:only-of-type {\n",
              "        vertical-align: middle;\n",
              "    }\n",
              "\n",
              "    .dataframe tbody tr th {\n",
              "        vertical-align: top;\n",
              "    }\n",
              "\n",
              "    .dataframe thead th {\n",
              "        text-align: right;\n",
              "    }\n",
              "</style>\n",
              "<table border=\"1\" class=\"dataframe\">\n",
              "  <thead>\n",
              "    <tr style=\"text-align: right;\">\n",
              "      <th></th>\n",
              "      <th>count</th>\n",
              "      <th>mean</th>\n",
              "      <th>std</th>\n",
              "      <th>min</th>\n",
              "      <th>25%</th>\n",
              "      <th>50%</th>\n",
              "      <th>75%</th>\n",
              "      <th>max</th>\n",
              "    </tr>\n",
              "  </thead>\n",
              "  <tbody>\n",
              "    <tr>\n",
              "      <th>User ID</th>\n",
              "      <td>400.0</td>\n",
              "      <td>1.569154e+07</td>\n",
              "      <td>71658.321581</td>\n",
              "      <td>15566689.0</td>\n",
              "      <td>15626763.75</td>\n",
              "      <td>15694341.5</td>\n",
              "      <td>15750363.0</td>\n",
              "      <td>15815236.0</td>\n",
              "    </tr>\n",
              "    <tr>\n",
              "      <th>Age</th>\n",
              "      <td>400.0</td>\n",
              "      <td>3.765500e+01</td>\n",
              "      <td>10.482877</td>\n",
              "      <td>18.0</td>\n",
              "      <td>29.75</td>\n",
              "      <td>37.0</td>\n",
              "      <td>46.0</td>\n",
              "      <td>60.0</td>\n",
              "    </tr>\n",
              "    <tr>\n",
              "      <th>EstimatedSalary</th>\n",
              "      <td>400.0</td>\n",
              "      <td>6.974250e+04</td>\n",
              "      <td>34096.960282</td>\n",
              "      <td>15000.0</td>\n",
              "      <td>43000.00</td>\n",
              "      <td>70000.0</td>\n",
              "      <td>88000.0</td>\n",
              "      <td>150000.0</td>\n",
              "    </tr>\n",
              "    <tr>\n",
              "      <th>Purchased</th>\n",
              "      <td>400.0</td>\n",
              "      <td>3.575000e-01</td>\n",
              "      <td>0.479864</td>\n",
              "      <td>0.0</td>\n",
              "      <td>0.00</td>\n",
              "      <td>0.0</td>\n",
              "      <td>1.0</td>\n",
              "      <td>1.0</td>\n",
              "    </tr>\n",
              "  </tbody>\n",
              "</table>\n",
              "</div>\n",
              "      <button class=\"colab-df-convert\" onclick=\"convertToInteractive('df-1986b8c5-1f2e-48e8-83ca-8157598a6ce8')\"\n",
              "              title=\"Convert this dataframe to an interactive table.\"\n",
              "              style=\"display:none;\">\n",
              "        \n",
              "  <svg xmlns=\"http://www.w3.org/2000/svg\" height=\"24px\"viewBox=\"0 0 24 24\"\n",
              "       width=\"24px\">\n",
              "    <path d=\"M0 0h24v24H0V0z\" fill=\"none\"/>\n",
              "    <path d=\"M18.56 5.44l.94 2.06.94-2.06 2.06-.94-2.06-.94-.94-2.06-.94 2.06-2.06.94zm-11 1L8.5 8.5l.94-2.06 2.06-.94-2.06-.94L8.5 2.5l-.94 2.06-2.06.94zm10 10l.94 2.06.94-2.06 2.06-.94-2.06-.94-.94-2.06-.94 2.06-2.06.94z\"/><path d=\"M17.41 7.96l-1.37-1.37c-.4-.4-.92-.59-1.43-.59-.52 0-1.04.2-1.43.59L10.3 9.45l-7.72 7.72c-.78.78-.78 2.05 0 2.83L4 21.41c.39.39.9.59 1.41.59.51 0 1.02-.2 1.41-.59l7.78-7.78 2.81-2.81c.8-.78.8-2.07 0-2.86zM5.41 20L4 18.59l7.72-7.72 1.47 1.35L5.41 20z\"/>\n",
              "  </svg>\n",
              "      </button>\n",
              "      \n",
              "  <style>\n",
              "    .colab-df-container {\n",
              "      display:flex;\n",
              "      flex-wrap:wrap;\n",
              "      gap: 12px;\n",
              "    }\n",
              "\n",
              "    .colab-df-convert {\n",
              "      background-color: #E8F0FE;\n",
              "      border: none;\n",
              "      border-radius: 50%;\n",
              "      cursor: pointer;\n",
              "      display: none;\n",
              "      fill: #1967D2;\n",
              "      height: 32px;\n",
              "      padding: 0 0 0 0;\n",
              "      width: 32px;\n",
              "    }\n",
              "\n",
              "    .colab-df-convert:hover {\n",
              "      background-color: #E2EBFA;\n",
              "      box-shadow: 0px 1px 2px rgba(60, 64, 67, 0.3), 0px 1px 3px 1px rgba(60, 64, 67, 0.15);\n",
              "      fill: #174EA6;\n",
              "    }\n",
              "\n",
              "    [theme=dark] .colab-df-convert {\n",
              "      background-color: #3B4455;\n",
              "      fill: #D2E3FC;\n",
              "    }\n",
              "\n",
              "    [theme=dark] .colab-df-convert:hover {\n",
              "      background-color: #434B5C;\n",
              "      box-shadow: 0px 1px 3px 1px rgba(0, 0, 0, 0.15);\n",
              "      filter: drop-shadow(0px 1px 2px rgba(0, 0, 0, 0.3));\n",
              "      fill: #FFFFFF;\n",
              "    }\n",
              "  </style>\n",
              "\n",
              "      <script>\n",
              "        const buttonEl =\n",
              "          document.querySelector('#df-1986b8c5-1f2e-48e8-83ca-8157598a6ce8 button.colab-df-convert');\n",
              "        buttonEl.style.display =\n",
              "          google.colab.kernel.accessAllowed ? 'block' : 'none';\n",
              "\n",
              "        async function convertToInteractive(key) {\n",
              "          const element = document.querySelector('#df-1986b8c5-1f2e-48e8-83ca-8157598a6ce8');\n",
              "          const dataTable =\n",
              "            await google.colab.kernel.invokeFunction('convertToInteractive',\n",
              "                                                     [key], {});\n",
              "          if (!dataTable) return;\n",
              "\n",
              "          const docLinkHtml = 'Like what you see? Visit the ' +\n",
              "            '<a target=\"_blank\" href=https://colab.research.google.com/notebooks/data_table.ipynb>data table notebook</a>'\n",
              "            + ' to learn more about interactive tables.';\n",
              "          element.innerHTML = '';\n",
              "          dataTable['output_type'] = 'display_data';\n",
              "          await google.colab.output.renderOutput(dataTable, element);\n",
              "          const docLink = document.createElement('div');\n",
              "          docLink.innerHTML = docLinkHtml;\n",
              "          element.appendChild(docLink);\n",
              "        }\n",
              "      </script>\n",
              "    </div>\n",
              "  </div>\n",
              "  "
            ]
          },
          "metadata": {},
          "execution_count": 9
        }
      ]
    },
    {
      "cell_type": "code",
      "source": [
        "dataset.info()"
      ],
      "metadata": {
        "colab": {
          "base_uri": "https://localhost:8080/"
        },
        "id": "6SXRTa2suMN8",
        "outputId": "68beae70-4833-4d6e-dcb8-9aa34c302312"
      },
      "execution_count": null,
      "outputs": [
        {
          "output_type": "stream",
          "name": "stdout",
          "text": [
            "<class 'pandas.core.frame.DataFrame'>\n",
            "RangeIndex: 400 entries, 0 to 399\n",
            "Data columns (total 5 columns):\n",
            " #   Column           Non-Null Count  Dtype \n",
            "---  ------           --------------  ----- \n",
            " 0   User ID          400 non-null    int64 \n",
            " 1   Gender           400 non-null    object\n",
            " 2   Age              400 non-null    int64 \n",
            " 3   EstimatedSalary  400 non-null    int64 \n",
            " 4   Purchased        400 non-null    int64 \n",
            "dtypes: int64(4), object(1)\n",
            "memory usage: 15.8+ KB\n"
          ]
        }
      ]
    },
    {
      "cell_type": "code",
      "source": [
        "dataset.shape"
      ],
      "metadata": {
        "colab": {
          "base_uri": "https://localhost:8080/"
        },
        "id": "eBVONJDEuMSZ",
        "outputId": "b6a52b33-829a-4af7-9546-618b54703451"
      },
      "execution_count": null,
      "outputs": [
        {
          "output_type": "execute_result",
          "data": {
            "text/plain": [
              "(400, 5)"
            ]
          },
          "metadata": {},
          "execution_count": 11
        }
      ]
    },
    {
      "cell_type": "code",
      "source": [
        "dataset.columns"
      ],
      "metadata": {
        "colab": {
          "base_uri": "https://localhost:8080/"
        },
        "id": "MCh1sApEuMVd",
        "outputId": "c38e44aa-9475-4087-d23c-9cbdfeba3e6c"
      },
      "execution_count": null,
      "outputs": [
        {
          "output_type": "execute_result",
          "data": {
            "text/plain": [
              "Index(['User ID', 'Gender', 'Age', 'EstimatedSalary', 'Purchased'], dtype='object')"
            ]
          },
          "metadata": {},
          "execution_count": 12
        }
      ]
    },
    {
      "cell_type": "code",
      "source": [
        "# Splitting the dataset into the Training set and Test set\n",
        "\n",
        "X_train, X_test, y_train, y_test = train_test_split(X, y, test_size = 0.20, random_state = 0)"
      ],
      "metadata": {
        "id": "a4YG67GNwO-E"
      },
      "execution_count": null,
      "outputs": []
    },
    {
      "cell_type": "markdown",
      "source": [
        "![image.png](data:image/png;base64,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)\n",
        "![image.png](data:image/png;base64,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)"
      ],
      "metadata": {
        "id": "f40Abx1PxjVz"
      }
    },
    {
      "cell_type": "code",
      "source": [
        "# Feature Scaling\n",
        "\n",
        "sc = StandardScaler()\n",
        "X_train = sc.fit_transform(X_train)\n",
        "X_test = sc.transform(X_test)\n",
        "X_test[:10, :]"
      ],
      "metadata": {
        "colab": {
          "base_uri": "https://localhost:8080/"
        },
        "id": "FkqCPSA9uMZE",
        "outputId": "49ceb63b-c558-41ce-f0d5-fa5abd6b021d"
      },
      "execution_count": null,
      "outputs": [
        {
          "output_type": "execute_result",
          "data": {
            "text/plain": [
              "array([[-0.79895082,  0.49460758],\n",
              "       [-0.02126485, -0.57735906],\n",
              "       [-0.31289709,  0.14694273],\n",
              "       [-0.79895082,  0.26283101],\n",
              "       [-0.31289709, -0.57735906],\n",
              "       [-1.09058306, -1.44652121],\n",
              "       [-0.70174008, -1.59138156],\n",
              "       [-0.21568634,  2.14601566],\n",
              "       [-1.96547978, -0.05586178],\n",
              "       [ 0.85363187, -0.78016356]])"
            ]
          },
          "metadata": {},
          "execution_count": 15
        }
      ]
    },
    {
      "cell_type": "markdown",
      "source": [
        "       [  [19, 19000],\n",
        "       [   35, 20000],\n",
        "       [   26, 43000],\n",
        "       [   27, 57000],\n",
        "       [   19, 76000]]"
      ],
      "metadata": {
        "id": "9kA1-nSlvux0"
      }
    },
    {
      "cell_type": "code",
      "source": [
        "dataset.tail()"
      ],
      "metadata": {
        "colab": {
          "base_uri": "https://localhost:8080/",
          "height": 206
        },
        "id": "qzrAmu8buMcR",
        "outputId": "c3ec12b0-f04d-4faf-9068-372e57c6dc53"
      },
      "execution_count": null,
      "outputs": [
        {
          "output_type": "execute_result",
          "data": {
            "text/plain": [
              "      User ID  Gender  Age  EstimatedSalary  Purchased\n",
              "395  15691863  Female   46            41000          1\n",
              "396  15706071    Male   51            23000          1\n",
              "397  15654296  Female   50            20000          1\n",
              "398  15755018    Male   36            33000          0\n",
              "399  15594041  Female   49            36000          1"
            ],
            "text/html": [
              "\n",
              "  <div id=\"df-711dcdab-0d23-4817-a6a7-6ca715d5bc04\">\n",
              "    <div class=\"colab-df-container\">\n",
              "      <div>\n",
              "<style scoped>\n",
              "    .dataframe tbody tr th:only-of-type {\n",
              "        vertical-align: middle;\n",
              "    }\n",
              "\n",
              "    .dataframe tbody tr th {\n",
              "        vertical-align: top;\n",
              "    }\n",
              "\n",
              "    .dataframe thead th {\n",
              "        text-align: right;\n",
              "    }\n",
              "</style>\n",
              "<table border=\"1\" class=\"dataframe\">\n",
              "  <thead>\n",
              "    <tr style=\"text-align: right;\">\n",
              "      <th></th>\n",
              "      <th>User ID</th>\n",
              "      <th>Gender</th>\n",
              "      <th>Age</th>\n",
              "      <th>EstimatedSalary</th>\n",
              "      <th>Purchased</th>\n",
              "    </tr>\n",
              "  </thead>\n",
              "  <tbody>\n",
              "    <tr>\n",
              "      <th>395</th>\n",
              "      <td>15691863</td>\n",
              "      <td>Female</td>\n",
              "      <td>46</td>\n",
              "      <td>41000</td>\n",
              "      <td>1</td>\n",
              "    </tr>\n",
              "    <tr>\n",
              "      <th>396</th>\n",
              "      <td>15706071</td>\n",
              "      <td>Male</td>\n",
              "      <td>51</td>\n",
              "      <td>23000</td>\n",
              "      <td>1</td>\n",
              "    </tr>\n",
              "    <tr>\n",
              "      <th>397</th>\n",
              "      <td>15654296</td>\n",
              "      <td>Female</td>\n",
              "      <td>50</td>\n",
              "      <td>20000</td>\n",
              "      <td>1</td>\n",
              "    </tr>\n",
              "    <tr>\n",
              "      <th>398</th>\n",
              "      <td>15755018</td>\n",
              "      <td>Male</td>\n",
              "      <td>36</td>\n",
              "      <td>33000</td>\n",
              "      <td>0</td>\n",
              "    </tr>\n",
              "    <tr>\n",
              "      <th>399</th>\n",
              "      <td>15594041</td>\n",
              "      <td>Female</td>\n",
              "      <td>49</td>\n",
              "      <td>36000</td>\n",
              "      <td>1</td>\n",
              "    </tr>\n",
              "  </tbody>\n",
              "</table>\n",
              "</div>\n",
              "      <button class=\"colab-df-convert\" onclick=\"convertToInteractive('df-711dcdab-0d23-4817-a6a7-6ca715d5bc04')\"\n",
              "              title=\"Convert this dataframe to an interactive table.\"\n",
              "              style=\"display:none;\">\n",
              "        \n",
              "  <svg xmlns=\"http://www.w3.org/2000/svg\" height=\"24px\"viewBox=\"0 0 24 24\"\n",
              "       width=\"24px\">\n",
              "    <path d=\"M0 0h24v24H0V0z\" fill=\"none\"/>\n",
              "    <path d=\"M18.56 5.44l.94 2.06.94-2.06 2.06-.94-2.06-.94-.94-2.06-.94 2.06-2.06.94zm-11 1L8.5 8.5l.94-2.06 2.06-.94-2.06-.94L8.5 2.5l-.94 2.06-2.06.94zm10 10l.94 2.06.94-2.06 2.06-.94-2.06-.94-.94-2.06-.94 2.06-2.06.94z\"/><path d=\"M17.41 7.96l-1.37-1.37c-.4-.4-.92-.59-1.43-.59-.52 0-1.04.2-1.43.59L10.3 9.45l-7.72 7.72c-.78.78-.78 2.05 0 2.83L4 21.41c.39.39.9.59 1.41.59.51 0 1.02-.2 1.41-.59l7.78-7.78 2.81-2.81c.8-.78.8-2.07 0-2.86zM5.41 20L4 18.59l7.72-7.72 1.47 1.35L5.41 20z\"/>\n",
              "  </svg>\n",
              "      </button>\n",
              "      \n",
              "  <style>\n",
              "    .colab-df-container {\n",
              "      display:flex;\n",
              "      flex-wrap:wrap;\n",
              "      gap: 12px;\n",
              "    }\n",
              "\n",
              "    .colab-df-convert {\n",
              "      background-color: #E8F0FE;\n",
              "      border: none;\n",
              "      border-radius: 50%;\n",
              "      cursor: pointer;\n",
              "      display: none;\n",
              "      fill: #1967D2;\n",
              "      height: 32px;\n",
              "      padding: 0 0 0 0;\n",
              "      width: 32px;\n",
              "    }\n",
              "\n",
              "    .colab-df-convert:hover {\n",
              "      background-color: #E2EBFA;\n",
              "      box-shadow: 0px 1px 2px rgba(60, 64, 67, 0.3), 0px 1px 3px 1px rgba(60, 64, 67, 0.15);\n",
              "      fill: #174EA6;\n",
              "    }\n",
              "\n",
              "    [theme=dark] .colab-df-convert {\n",
              "      background-color: #3B4455;\n",
              "      fill: #D2E3FC;\n",
              "    }\n",
              "\n",
              "    [theme=dark] .colab-df-convert:hover {\n",
              "      background-color: #434B5C;\n",
              "      box-shadow: 0px 1px 3px 1px rgba(0, 0, 0, 0.15);\n",
              "      filter: drop-shadow(0px 1px 2px rgba(0, 0, 0, 0.3));\n",
              "      fill: #FFFFFF;\n",
              "    }\n",
              "  </style>\n",
              "\n",
              "      <script>\n",
              "        const buttonEl =\n",
              "          document.querySelector('#df-711dcdab-0d23-4817-a6a7-6ca715d5bc04 button.colab-df-convert');\n",
              "        buttonEl.style.display =\n",
              "          google.colab.kernel.accessAllowed ? 'block' : 'none';\n",
              "\n",
              "        async function convertToInteractive(key) {\n",
              "          const element = document.querySelector('#df-711dcdab-0d23-4817-a6a7-6ca715d5bc04');\n",
              "          const dataTable =\n",
              "            await google.colab.kernel.invokeFunction('convertToInteractive',\n",
              "                                                     [key], {});\n",
              "          if (!dataTable) return;\n",
              "\n",
              "          const docLinkHtml = 'Like what you see? Visit the ' +\n",
              "            '<a target=\"_blank\" href=https://colab.research.google.com/notebooks/data_table.ipynb>data table notebook</a>'\n",
              "            + ' to learn more about interactive tables.';\n",
              "          element.innerHTML = '';\n",
              "          dataTable['output_type'] = 'display_data';\n",
              "          await google.colab.output.renderOutput(dataTable, element);\n",
              "          const docLink = document.createElement('div');\n",
              "          docLink.innerHTML = docLinkHtml;\n",
              "          element.appendChild(docLink);\n",
              "        }\n",
              "      </script>\n",
              "    </div>\n",
              "  </div>\n",
              "  "
            ]
          },
          "metadata": {},
          "execution_count": 16
        }
      ]
    },
    {
      "cell_type": "markdown",
      "source": [
        "classifier = KNeighborsClassifier(n_neighbors = 5)\n",
        "\n",
        "classifier.fit(X_train, y_train)\n",
        "\n",
        "ac = accuracy_score(y_test, accuracy_score(y_test, classifier.predict(X_test)))"
      ],
      "metadata": {
        "id": "D5eqK1Rd2M1p"
      }
    },
    {
      "cell_type": "code",
      "source": [
        "# Training the K-NN model on the Training set\n",
        "\n",
        "classifier = KNeighborsClassifier(n_neighbors = 5)\n",
        "\n",
        "# Train\n",
        "classifier.fit(X_train, y_train)\n",
        "\n",
        "\n",
        "# Predicting the Test set results\n",
        "y_pred = classifier.predict(X_test)\n",
        "\n",
        "# Model Recall:\n",
        "print(\"Recall:\", recall_score(y_test, y_pred))\n",
        "ac = accuracy_score(y_test, y_pred)\n",
        "ac"
      ],
      "metadata": {
        "colab": {
          "base_uri": "https://localhost:8080/"
        },
        "id": "Bni0vuXPuMgq",
        "outputId": "ab1ae90b-c27a-4d33-d9ff-dfd87763be1a"
      },
      "execution_count": null,
      "outputs": [
        {
          "output_type": "stream",
          "name": "stdout",
          "text": [
            "Recall: 0.9545454545454546\n"
          ]
        },
        {
          "output_type": "execute_result",
          "data": {
            "text/plain": [
              "0.95"
            ]
          },
          "metadata": {},
          "execution_count": 31
        }
      ]
    },
    {
      "cell_type": "code",
      "source": [
        "# Training the K-NN model on the Training set\n",
        "\n",
        "classifier = KNeighborsClassifier(n_neighbors = 7)\n",
        "\n",
        "# Train\n",
        "classifier.fit(X_train, y_train)\n",
        "\n",
        "\n",
        "# Predicting the Test set results\n",
        "y_pred = classifier.predict(X_test)\n",
        "\n",
        "# Model Recall:\n",
        "print(\"Recall:\",  recall_score(y_test, y_predict))\n",
        "print(\"Accurcy:\", accuracy_score(y_test, y_predict))\n",
        "\n",
        "cm = confusion_matrix(y_test, y_predict)\n",
        "print(\"__________\\n\",cm)\n",
        "print(\"\\nClassification Report =\\n\",\n",
        "          classification_report(y_test, y_predict))\n",
        "\n",
        "ac = accuracy_score(y_test, y_pred)\n",
        "ac"
      ],
      "metadata": {
        "colab": {
          "base_uri": "https://localhost:8080/"
        },
        "id": "unU-cP_-4BPP",
        "outputId": "16497a33-825a-4bc1-ac71-f65d3c988b99"
      },
      "execution_count": null,
      "outputs": [
        {
          "output_type": "stream",
          "name": "stdout",
          "text": [
            "Recall: 0.9545454545454546\n",
            "Accurcy: 0.95\n",
            "__________\n",
            " [[55  3]\n",
            " [ 1 21]]\n",
            "\n",
            "Classification Report =\n",
            "               precision    recall  f1-score   support\n",
            "\n",
            "           0       0.98      0.95      0.96        58\n",
            "           1       0.88      0.95      0.91        22\n",
            "\n",
            "    accuracy                           0.95        80\n",
            "   macro avg       0.93      0.95      0.94        80\n",
            "weighted avg       0.95      0.95      0.95        80\n",
            "\n"
          ]
        },
        {
          "output_type": "execute_result",
          "data": {
            "text/plain": [
              "0.95"
            ]
          },
          "metadata": {},
          "execution_count": 46
        }
      ]
    },
    {
      "cell_type": "code",
      "source": [
        "# Instantiate the Support Vector Classifier (SVC)\n",
        "# Linear SVM\n",
        "svc = SVC(kernel='linear')\n",
        "\n",
        "# Fit the model\n",
        "svc.fit(X_train, y_train)\n",
        "\n",
        "# Make the predictions\n",
        "y_predict = svc.predict(X_test)\n",
        "\n",
        "# Model Recall:\n",
        "print(\"Recall:\",  recall_score(y_test, y_predict))\n",
        "print(\"Accurcy:\", accuracy_score(y_test, y_predict))\n",
        "\n",
        "cm = confusion_matrix(y_test, y_predict)\n",
        "print(\"__________\\n\",cm)\n",
        "print(\"\\nClassification Report =\\n\",\n",
        "          classification_report(y_test, y_predict))\n",
        "ac = accuracy_score(y_test, y_predict)\n",
        "ac"
      ],
      "metadata": {
        "colab": {
          "base_uri": "https://localhost:8080/"
        },
        "id": "G7uUBlz430qR",
        "outputId": "cb8bebaa-6461-467f-f15a-d485b451a888"
      },
      "execution_count": null,
      "outputs": [
        {
          "output_type": "stream",
          "name": "stdout",
          "text": [
            "Recall: 0.7272727272727273\n",
            "Accurcy: 0.9125\n",
            "__________\n",
            " [[57  1]\n",
            " [ 6 16]]\n",
            "\n",
            "Classification Report =\n",
            "               precision    recall  f1-score   support\n",
            "\n",
            "           0       0.90      0.98      0.94        58\n",
            "           1       0.94      0.73      0.82        22\n",
            "\n",
            "    accuracy                           0.91        80\n",
            "   macro avg       0.92      0.86      0.88        80\n",
            "weighted avg       0.91      0.91      0.91        80\n",
            "\n"
          ]
        },
        {
          "output_type": "execute_result",
          "data": {
            "text/plain": [
              "0.9125"
            ]
          },
          "metadata": {},
          "execution_count": 47
        }
      ]
    },
    {
      "cell_type": "code",
      "source": [
        "# Instantiate the Support Vector Classifier (SVC)\n",
        "\n",
        "# rbf SVM\n",
        "svc = SVC(kernel='rbf')\n",
        "\n",
        "# Fit the model\n",
        "svc.fit(X_train, y_train)\n",
        "\n",
        "# Make the predictions\n",
        "y_predict = svc.predict(X_test)\n",
        "\n",
        "# Model Recall:\n",
        "print(\"Recall:\",  recall_score(y_test, y_predict))\n",
        "print(\"Accurcy:\", accuracy_score(y_test, y_predict))\n",
        "\n",
        "cm = confusion_matrix(y_test, y_predict)\n",
        "print(\"__________\\n\",cm)\n",
        "print(\"\\nClassification Report =\\n\",\n",
        "          classification_report(y_test, y_predict))\n",
        "\n",
        "\n",
        "# Model Recall:\n",
        "print(\"Recall:\", recall_score(y_test, y_predict))\n",
        "ac = accuracy_score(y_test, y_predict)\n",
        "ac"
      ],
      "metadata": {
        "id": "yDlld_9ouMkS",
        "colab": {
          "base_uri": "https://localhost:8080/"
        },
        "outputId": "5310226a-b837-44ef-a65e-4d98fb4f5786"
      },
      "execution_count": null,
      "outputs": [
        {
          "output_type": "stream",
          "name": "stdout",
          "text": [
            "Recall: 0.9545454545454546\n",
            "Accurcy: 0.95\n",
            "__________\n",
            " [[55  3]\n",
            " [ 1 21]]\n",
            "\n",
            "Classification Report =\n",
            "               precision    recall  f1-score   support\n",
            "\n",
            "           0       0.98      0.95      0.96        58\n",
            "           1       0.88      0.95      0.91        22\n",
            "\n",
            "    accuracy                           0.95        80\n",
            "   macro avg       0.93      0.95      0.94        80\n",
            "weighted avg       0.95      0.95      0.95        80\n",
            "\n",
            "Recall: 0.9545454545454546\n"
          ]
        },
        {
          "output_type": "execute_result",
          "data": {
            "text/plain": [
              "0.95"
            ]
          },
          "metadata": {},
          "execution_count": 45
        }
      ]
    },
    {
      "cell_type": "code",
      "source": [
        "# Logistic Regression\n",
        "# Fitting Logistic Regression to the Training set\n",
        "from sklearn.linear_model import LogisticRegression\n",
        "classifier = LogisticRegression(random_state = 0)\n",
        "classifier.fit(X_train, y_train)\n",
        "\n",
        "\n",
        "\n",
        "# Make the predictions\n",
        "y_predict = classifier.predict(X_test)\n",
        "\n",
        "# Model Recall:\n",
        "print(\"Recall:\",  recall_score(y_test, y_predict))\n",
        "print(\"Accurcy:\", accuracy_score(y_test, y_predict))\n",
        "\n",
        "cm = confusion_matrix(y_test, y_predict)\n",
        "print(\"__________\\n\",cm)\n",
        "print(\"\\nClassification Report =\\n\",\n",
        "          classification_report(y_test, y_predict))\n",
        "\n"
      ],
      "metadata": {
        "id": "NXjCHA1KuMn0",
        "colab": {
          "base_uri": "https://localhost:8080/"
        },
        "outputId": "bc681bf7-2a35-44fb-bd0a-d19f5b75e836"
      },
      "execution_count": null,
      "outputs": [
        {
          "output_type": "stream",
          "name": "stdout",
          "text": [
            "Recall: 0.7727272727272727\n",
            "Accurcy: 0.925\n",
            "__________\n",
            " [[57  1]\n",
            " [ 5 17]]\n",
            "\n",
            "Classification Report =\n",
            "               precision    recall  f1-score   support\n",
            "\n",
            "           0       0.92      0.98      0.95        58\n",
            "           1       0.94      0.77      0.85        22\n",
            "\n",
            "    accuracy                           0.93        80\n",
            "   macro avg       0.93      0.88      0.90        80\n",
            "weighted avg       0.93      0.93      0.92        80\n",
            "\n"
          ]
        }
      ]
    },
    {
      "cell_type": "code",
      "source": [],
      "metadata": {
        "id": "bdG4ioQKuMq3"
      },
      "execution_count": null,
      "outputs": []
    },
    {
      "cell_type": "code",
      "source": [],
      "metadata": {
        "id": "gxIJLQ1JuMt9"
      },
      "execution_count": null,
      "outputs": []
    },
    {
      "cell_type": "code",
      "source": [],
      "metadata": {
        "id": "NJG0HnRmn8nZ"
      },
      "execution_count": null,
      "outputs": []
    },
    {
      "cell_type": "code",
      "source": [],
      "metadata": {
        "id": "JAiSASjR4vrK"
      },
      "execution_count": null,
      "outputs": []
    },
    {
      "cell_type": "code",
      "source": [],
      "metadata": {
        "id": "4W9aGPLVn8qd"
      },
      "execution_count": null,
      "outputs": []
    },
    {
      "cell_type": "code",
      "source": [
        "\n"
      ],
      "metadata": {
        "id": "QMSH5y7b-FMb"
      },
      "execution_count": null,
      "outputs": []
    },
    {
      "cell_type": "code",
      "source": [],
      "metadata": {
        "id": "pkroWVwh-ECk"
      },
      "execution_count": null,
      "outputs": []
    },
    {
      "cell_type": "markdown",
      "source": [
        "K Nearest Nebourhoud"
      ],
      "metadata": {
        "id": "yKPAWzqagukb"
      }
    },
    {
      "cell_type": "code",
      "source": [],
      "metadata": {
        "id": "8dlkZtkDn8v-"
      },
      "execution_count": null,
      "outputs": []
    },
    {
      "cell_type": "code",
      "source": [],
      "metadata": {
        "id": "Sjx-lp0cn8yi"
      },
      "execution_count": null,
      "outputs": []
    },
    {
      "cell_type": "code",
      "source": [],
      "metadata": {
        "id": "SiXDlaF0n82q"
      },
      "execution_count": null,
      "outputs": []
    },
    {
      "cell_type": "code",
      "source": [],
      "metadata": {
        "id": "AcSUUk1cn85b"
      },
      "execution_count": null,
      "outputs": []
    },
    {
      "cell_type": "code",
      "source": [],
      "metadata": {
        "id": "Dm2r8Ltrn877"
      },
      "execution_count": null,
      "outputs": []
    },
    {
      "cell_type": "code",
      "source": [],
      "metadata": {
        "id": "9sDfn_HXn8-a"
      },
      "execution_count": null,
      "outputs": []
    },
    {
      "cell_type": "code",
      "source": [],
      "metadata": {
        "id": "R4spcYSxn9BO"
      },
      "execution_count": null,
      "outputs": []
    },
    {
      "cell_type": "code",
      "source": [],
      "metadata": {
        "id": "d-C-aSYun9D5"
      },
      "execution_count": null,
      "outputs": []
    },
    {
      "cell_type": "code",
      "source": [],
      "metadata": {
        "id": "s58XoF6Wn9GF"
      },
      "execution_count": null,
      "outputs": []
    }
  ]
}