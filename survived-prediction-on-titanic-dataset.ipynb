{
 "cells": [
  {
   "cell_type": "code",
   "execution_count": 1,
   "id": "dd3f21b6",
   "metadata": {
    "_cell_guid": "b1076dfc-b9ad-4769-8c92-a6c4dae69d19",
    "_uuid": "8f2839f25d086af736a60e9eeb907d3b93b6e0e5",
    "execution": {
     "iopub.execute_input": "2023-10-22T14:06:52.271352Z",
     "iopub.status.busy": "2023-10-22T14:06:52.270979Z",
     "iopub.status.idle": "2023-10-22T14:06:52.693596Z",
     "shell.execute_reply": "2023-10-22T14:06:52.692230Z"
    },
    "papermill": {
     "duration": 0.438318,
     "end_time": "2023-10-22T14:06:52.697911",
     "exception": false,
     "start_time": "2023-10-22T14:06:52.259593",
     "status": "completed"
    },
    "tags": []
   },
   "outputs": [
    {
     "name": "stdout",
     "output_type": "stream",
     "text": [
      "/kaggle/input/titanic/train.csv\n",
      "/kaggle/input/titanic/test.csv\n",
      "/kaggle/input/titanic/gender_submission.csv\n"
     ]
    }
   ],
   "source": [
    "# This Python 3 environment comes with many helpful analytics libraries installed\n",
    "# It is defined by the kaggle/python Docker image: https://github.com/kaggle/docker-python\n",
    "# For example, here's several helpful packages to load\n",
    "\n",
    "import numpy as np # linear algebra\n",
    "import pandas as pd # data processing, CSV file I/O (e.g. pd.read_csv)\n",
    "\n",
    "# Input data files are available in the read-only \"../input/\" directory\n",
    "# For example, running this (by clicking run or pressing Shift+Enter) will list all files under the input directory\n",
    "\n",
    "import os\n",
    "for dirname, _, filenames in os.walk('/kaggle/input'):\n",
    "    for filename in filenames:\n",
    "        print(os.path.join(dirname, filename))\n",
    "\n",
    "# You can write up to 20GB to the current directory (/kaggle/working/) that gets preserved as output when you create a version using \"Save & Run All\" \n",
    "# You can also write temporary files to /kaggle/temp/, but they won't be saved outside of the current session"
   ]
  },
  {
   "cell_type": "code",
   "execution_count": 2,
   "id": "fd762ca5",
   "metadata": {
    "execution": {
     "iopub.execute_input": "2023-10-22T14:06:52.718444Z",
     "iopub.status.busy": "2023-10-22T14:06:52.717955Z",
     "iopub.status.idle": "2023-10-22T14:06:54.625207Z",
     "shell.execute_reply": "2023-10-22T14:06:54.623864Z"
    },
    "papermill": {
     "duration": 1.920524,
     "end_time": "2023-10-22T14:06:54.628022",
     "exception": false,
     "start_time": "2023-10-22T14:06:52.707498",
     "status": "completed"
    },
    "tags": []
   },
   "outputs": [],
   "source": [
    "#import my important libraries\n",
    "import numpy as np \n",
    "import pandas as pd\n",
    "import matplotlib.pyplot as plt\n",
    "import seaborn as sns\n",
    "from sklearn.preprocessing import LabelEncoder\n"
   ]
  },
  {
   "cell_type": "code",
   "execution_count": 3,
   "id": "58088212",
   "metadata": {
    "execution": {
     "iopub.execute_input": "2023-10-22T14:06:54.647438Z",
     "iopub.status.busy": "2023-10-22T14:06:54.647017Z",
     "iopub.status.idle": "2023-10-22T14:06:54.707126Z",
     "shell.execute_reply": "2023-10-22T14:06:54.705984Z"
    },
    "papermill": {
     "duration": 0.072928,
     "end_time": "2023-10-22T14:06:54.709844",
     "exception": false,
     "start_time": "2023-10-22T14:06:54.636916",
     "status": "completed"
    },
    "tags": []
   },
   "outputs": [
    {
     "data": {
      "text/html": [
       "<div>\n",
       "<style scoped>\n",
       "    .dataframe tbody tr th:only-of-type {\n",
       "        vertical-align: middle;\n",
       "    }\n",
       "\n",
       "    .dataframe tbody tr th {\n",
       "        vertical-align: top;\n",
       "    }\n",
       "\n",
       "    .dataframe thead th {\n",
       "        text-align: right;\n",
       "    }\n",
       "</style>\n",
       "<table border=\"1\" class=\"dataframe\">\n",
       "  <thead>\n",
       "    <tr style=\"text-align: right;\">\n",
       "      <th></th>\n",
       "      <th>PassengerId</th>\n",
       "      <th>Survived</th>\n",
       "      <th>Pclass</th>\n",
       "      <th>Name</th>\n",
       "      <th>Sex</th>\n",
       "      <th>Age</th>\n",
       "      <th>SibSp</th>\n",
       "      <th>Parch</th>\n",
       "      <th>Ticket</th>\n",
       "      <th>Fare</th>\n",
       "      <th>Cabin</th>\n",
       "      <th>Embarked</th>\n",
       "    </tr>\n",
       "  </thead>\n",
       "  <tbody>\n",
       "    <tr>\n",
       "      <th>0</th>\n",
       "      <td>1</td>\n",
       "      <td>0</td>\n",
       "      <td>3</td>\n",
       "      <td>Braund, Mr. Owen Harris</td>\n",
       "      <td>male</td>\n",
       "      <td>22.0</td>\n",
       "      <td>1</td>\n",
       "      <td>0</td>\n",
       "      <td>A/5 21171</td>\n",
       "      <td>7.2500</td>\n",
       "      <td>NaN</td>\n",
       "      <td>S</td>\n",
       "    </tr>\n",
       "    <tr>\n",
       "      <th>1</th>\n",
       "      <td>2</td>\n",
       "      <td>1</td>\n",
       "      <td>1</td>\n",
       "      <td>Cumings, Mrs. John Bradley (Florence Briggs Th...</td>\n",
       "      <td>female</td>\n",
       "      <td>38.0</td>\n",
       "      <td>1</td>\n",
       "      <td>0</td>\n",
       "      <td>PC 17599</td>\n",
       "      <td>71.2833</td>\n",
       "      <td>C85</td>\n",
       "      <td>C</td>\n",
       "    </tr>\n",
       "    <tr>\n",
       "      <th>2</th>\n",
       "      <td>3</td>\n",
       "      <td>1</td>\n",
       "      <td>3</td>\n",
       "      <td>Heikkinen, Miss. Laina</td>\n",
       "      <td>female</td>\n",
       "      <td>26.0</td>\n",
       "      <td>0</td>\n",
       "      <td>0</td>\n",
       "      <td>STON/O2. 3101282</td>\n",
       "      <td>7.9250</td>\n",
       "      <td>NaN</td>\n",
       "      <td>S</td>\n",
       "    </tr>\n",
       "    <tr>\n",
       "      <th>3</th>\n",
       "      <td>4</td>\n",
       "      <td>1</td>\n",
       "      <td>1</td>\n",
       "      <td>Futrelle, Mrs. Jacques Heath (Lily May Peel)</td>\n",
       "      <td>female</td>\n",
       "      <td>35.0</td>\n",
       "      <td>1</td>\n",
       "      <td>0</td>\n",
       "      <td>113803</td>\n",
       "      <td>53.1000</td>\n",
       "      <td>C123</td>\n",
       "      <td>S</td>\n",
       "    </tr>\n",
       "    <tr>\n",
       "      <th>4</th>\n",
       "      <td>5</td>\n",
       "      <td>0</td>\n",
       "      <td>3</td>\n",
       "      <td>Allen, Mr. William Henry</td>\n",
       "      <td>male</td>\n",
       "      <td>35.0</td>\n",
       "      <td>0</td>\n",
       "      <td>0</td>\n",
       "      <td>373450</td>\n",
       "      <td>8.0500</td>\n",
       "      <td>NaN</td>\n",
       "      <td>S</td>\n",
       "    </tr>\n",
       "  </tbody>\n",
       "</table>\n",
       "</div>"
      ],
      "text/plain": [
       "   PassengerId  Survived  Pclass  \\\n",
       "0            1         0       3   \n",
       "1            2         1       1   \n",
       "2            3         1       3   \n",
       "3            4         1       1   \n",
       "4            5         0       3   \n",
       "\n",
       "                                                Name     Sex   Age  SibSp  \\\n",
       "0                            Braund, Mr. Owen Harris    male  22.0      1   \n",
       "1  Cumings, Mrs. John Bradley (Florence Briggs Th...  female  38.0      1   \n",
       "2                             Heikkinen, Miss. Laina  female  26.0      0   \n",
       "3       Futrelle, Mrs. Jacques Heath (Lily May Peel)  female  35.0      1   \n",
       "4                           Allen, Mr. William Henry    male  35.0      0   \n",
       "\n",
       "   Parch            Ticket     Fare Cabin Embarked  \n",
       "0      0         A/5 21171   7.2500   NaN        S  \n",
       "1      0          PC 17599  71.2833   C85        C  \n",
       "2      0  STON/O2. 3101282   7.9250   NaN        S  \n",
       "3      0            113803  53.1000  C123        S  \n",
       "4      0            373450   8.0500   NaN        S  "
      ]
     },
     "execution_count": 3,
     "metadata": {},
     "output_type": "execute_result"
    }
   ],
   "source": [
    "#import data\n",
    "url1= \"/kaggle/input/titanic/train.csv\"\n",
    "train_df = pd.read_csv(url1)\n",
    "url2 = \"/kaggle/input/titanic/test.csv\"\n",
    "test_df = pd.read_csv(url2)\n",
    "train_df.head()"
   ]
  },
  {
   "cell_type": "markdown",
   "id": "8d7105fe",
   "metadata": {
    "papermill": {
     "duration": 0.008813,
     "end_time": "2023-10-22T14:06:54.728051",
     "exception": false,
     "start_time": "2023-10-22T14:06:54.719238",
     "status": "completed"
    },
    "tags": []
   },
   "source": [
    "#quick check for the data"
   ]
  },
  {
   "cell_type": "code",
   "execution_count": 4,
   "id": "39a85bdf",
   "metadata": {
    "execution": {
     "iopub.execute_input": "2023-10-22T14:06:54.748399Z",
     "iopub.status.busy": "2023-10-22T14:06:54.748032Z",
     "iopub.status.idle": "2023-10-22T14:06:54.754957Z",
     "shell.execute_reply": "2023-10-22T14:06:54.753834Z"
    },
    "papermill": {
     "duration": 0.0203,
     "end_time": "2023-10-22T14:06:54.757415",
     "exception": false,
     "start_time": "2023-10-22T14:06:54.737115",
     "status": "completed"
    },
    "tags": []
   },
   "outputs": [
    {
     "data": {
      "text/plain": [
       "(891, 12)"
      ]
     },
     "execution_count": 4,
     "metadata": {},
     "output_type": "execute_result"
    }
   ],
   "source": [
    "train_df.shape"
   ]
  },
  {
   "cell_type": "code",
   "execution_count": 5,
   "id": "fd9ab654",
   "metadata": {
    "execution": {
     "iopub.execute_input": "2023-10-22T14:06:54.778027Z",
     "iopub.status.busy": "2023-10-22T14:06:54.777654Z",
     "iopub.status.idle": "2023-10-22T14:06:54.809874Z",
     "shell.execute_reply": "2023-10-22T14:06:54.807971Z"
    },
    "papermill": {
     "duration": 0.04588,
     "end_time": "2023-10-22T14:06:54.812646",
     "exception": false,
     "start_time": "2023-10-22T14:06:54.766766",
     "status": "completed"
    },
    "tags": []
   },
   "outputs": [
    {
     "name": "stdout",
     "output_type": "stream",
     "text": [
      "<class 'pandas.core.frame.DataFrame'>\n",
      "RangeIndex: 891 entries, 0 to 890\n",
      "Data columns (total 12 columns):\n",
      " #   Column       Non-Null Count  Dtype  \n",
      "---  ------       --------------  -----  \n",
      " 0   PassengerId  891 non-null    int64  \n",
      " 1   Survived     891 non-null    int64  \n",
      " 2   Pclass       891 non-null    int64  \n",
      " 3   Name         891 non-null    object \n",
      " 4   Sex          891 non-null    object \n",
      " 5   Age          714 non-null    float64\n",
      " 6   SibSp        891 non-null    int64  \n",
      " 7   Parch        891 non-null    int64  \n",
      " 8   Ticket       891 non-null    object \n",
      " 9   Fare         891 non-null    float64\n",
      " 10  Cabin        204 non-null    object \n",
      " 11  Embarked     889 non-null    object \n",
      "dtypes: float64(2), int64(5), object(5)\n",
      "memory usage: 83.7+ KB\n"
     ]
    }
   ],
   "source": [
    "train_df.info()"
   ]
  },
  {
   "cell_type": "code",
   "execution_count": 6,
   "id": "80ec27f7",
   "metadata": {
    "execution": {
     "iopub.execute_input": "2023-10-22T14:06:54.833466Z",
     "iopub.status.busy": "2023-10-22T14:06:54.833040Z",
     "iopub.status.idle": "2023-10-22T14:06:54.871462Z",
     "shell.execute_reply": "2023-10-22T14:06:54.870346Z"
    },
    "papermill": {
     "duration": 0.051754,
     "end_time": "2023-10-22T14:06:54.873906",
     "exception": false,
     "start_time": "2023-10-22T14:06:54.822152",
     "status": "completed"
    },
    "tags": []
   },
   "outputs": [
    {
     "data": {
      "text/html": [
       "<div>\n",
       "<style scoped>\n",
       "    .dataframe tbody tr th:only-of-type {\n",
       "        vertical-align: middle;\n",
       "    }\n",
       "\n",
       "    .dataframe tbody tr th {\n",
       "        vertical-align: top;\n",
       "    }\n",
       "\n",
       "    .dataframe thead th {\n",
       "        text-align: right;\n",
       "    }\n",
       "</style>\n",
       "<table border=\"1\" class=\"dataframe\">\n",
       "  <thead>\n",
       "    <tr style=\"text-align: right;\">\n",
       "      <th></th>\n",
       "      <th>count</th>\n",
       "      <th>mean</th>\n",
       "      <th>std</th>\n",
       "      <th>min</th>\n",
       "      <th>25%</th>\n",
       "      <th>50%</th>\n",
       "      <th>75%</th>\n",
       "      <th>max</th>\n",
       "    </tr>\n",
       "  </thead>\n",
       "  <tbody>\n",
       "    <tr>\n",
       "      <th>PassengerId</th>\n",
       "      <td>891.0</td>\n",
       "      <td>446.000000</td>\n",
       "      <td>257.353842</td>\n",
       "      <td>1.00</td>\n",
       "      <td>223.5000</td>\n",
       "      <td>446.0000</td>\n",
       "      <td>668.5</td>\n",
       "      <td>891.0000</td>\n",
       "    </tr>\n",
       "    <tr>\n",
       "      <th>Survived</th>\n",
       "      <td>891.0</td>\n",
       "      <td>0.383838</td>\n",
       "      <td>0.486592</td>\n",
       "      <td>0.00</td>\n",
       "      <td>0.0000</td>\n",
       "      <td>0.0000</td>\n",
       "      <td>1.0</td>\n",
       "      <td>1.0000</td>\n",
       "    </tr>\n",
       "    <tr>\n",
       "      <th>Pclass</th>\n",
       "      <td>891.0</td>\n",
       "      <td>2.308642</td>\n",
       "      <td>0.836071</td>\n",
       "      <td>1.00</td>\n",
       "      <td>2.0000</td>\n",
       "      <td>3.0000</td>\n",
       "      <td>3.0</td>\n",
       "      <td>3.0000</td>\n",
       "    </tr>\n",
       "    <tr>\n",
       "      <th>Age</th>\n",
       "      <td>714.0</td>\n",
       "      <td>29.699118</td>\n",
       "      <td>14.526497</td>\n",
       "      <td>0.42</td>\n",
       "      <td>20.1250</td>\n",
       "      <td>28.0000</td>\n",
       "      <td>38.0</td>\n",
       "      <td>80.0000</td>\n",
       "    </tr>\n",
       "    <tr>\n",
       "      <th>SibSp</th>\n",
       "      <td>891.0</td>\n",
       "      <td>0.523008</td>\n",
       "      <td>1.102743</td>\n",
       "      <td>0.00</td>\n",
       "      <td>0.0000</td>\n",
       "      <td>0.0000</td>\n",
       "      <td>1.0</td>\n",
       "      <td>8.0000</td>\n",
       "    </tr>\n",
       "    <tr>\n",
       "      <th>Parch</th>\n",
       "      <td>891.0</td>\n",
       "      <td>0.381594</td>\n",
       "      <td>0.806057</td>\n",
       "      <td>0.00</td>\n",
       "      <td>0.0000</td>\n",
       "      <td>0.0000</td>\n",
       "      <td>0.0</td>\n",
       "      <td>6.0000</td>\n",
       "    </tr>\n",
       "    <tr>\n",
       "      <th>Fare</th>\n",
       "      <td>891.0</td>\n",
       "      <td>32.204208</td>\n",
       "      <td>49.693429</td>\n",
       "      <td>0.00</td>\n",
       "      <td>7.9104</td>\n",
       "      <td>14.4542</td>\n",
       "      <td>31.0</td>\n",
       "      <td>512.3292</td>\n",
       "    </tr>\n",
       "  </tbody>\n",
       "</table>\n",
       "</div>"
      ],
      "text/plain": [
       "             count        mean         std   min       25%       50%    75%  \\\n",
       "PassengerId  891.0  446.000000  257.353842  1.00  223.5000  446.0000  668.5   \n",
       "Survived     891.0    0.383838    0.486592  0.00    0.0000    0.0000    1.0   \n",
       "Pclass       891.0    2.308642    0.836071  1.00    2.0000    3.0000    3.0   \n",
       "Age          714.0   29.699118   14.526497  0.42   20.1250   28.0000   38.0   \n",
       "SibSp        891.0    0.523008    1.102743  0.00    0.0000    0.0000    1.0   \n",
       "Parch        891.0    0.381594    0.806057  0.00    0.0000    0.0000    0.0   \n",
       "Fare         891.0   32.204208   49.693429  0.00    7.9104   14.4542   31.0   \n",
       "\n",
       "                  max  \n",
       "PassengerId  891.0000  \n",
       "Survived       1.0000  \n",
       "Pclass         3.0000  \n",
       "Age           80.0000  \n",
       "SibSp          8.0000  \n",
       "Parch          6.0000  \n",
       "Fare         512.3292  "
      ]
     },
     "execution_count": 6,
     "metadata": {},
     "output_type": "execute_result"
    }
   ],
   "source": [
    "train_df.describe().T"
   ]
  },
  {
   "cell_type": "markdown",
   "id": "5f8f88ed",
   "metadata": {
    "papermill": {
     "duration": 0.009837,
     "end_time": "2023-10-22T14:06:54.893592",
     "exception": false,
     "start_time": "2023-10-22T14:06:54.883755",
     "status": "completed"
    },
    "tags": []
   },
   "source": [
    "Deleing with null values\n"
   ]
  },
  {
   "cell_type": "code",
   "execution_count": 7,
   "id": "3404301f",
   "metadata": {
    "execution": {
     "iopub.execute_input": "2023-10-22T14:06:54.915064Z",
     "iopub.status.busy": "2023-10-22T14:06:54.914653Z",
     "iopub.status.idle": "2023-10-22T14:06:54.924503Z",
     "shell.execute_reply": "2023-10-22T14:06:54.923609Z"
    },
    "papermill": {
     "duration": 0.023347,
     "end_time": "2023-10-22T14:06:54.926725",
     "exception": false,
     "start_time": "2023-10-22T14:06:54.903378",
     "status": "completed"
    },
    "tags": []
   },
   "outputs": [],
   "source": [
    "train_df[\"Age\"] = train_df[\"Age\"].fillna(method = \"ffill\")\n"
   ]
  },
  {
   "cell_type": "code",
   "execution_count": 8,
   "id": "b1514db5",
   "metadata": {
    "execution": {
     "iopub.execute_input": "2023-10-22T14:06:54.948290Z",
     "iopub.status.busy": "2023-10-22T14:06:54.947679Z",
     "iopub.status.idle": "2023-10-22T14:06:54.961935Z",
     "shell.execute_reply": "2023-10-22T14:06:54.960841Z"
    },
    "papermill": {
     "duration": 0.028108,
     "end_time": "2023-10-22T14:06:54.964682",
     "exception": false,
     "start_time": "2023-10-22T14:06:54.936574",
     "status": "completed"
    },
    "tags": []
   },
   "outputs": [
    {
     "name": "stdout",
     "output_type": "stream",
     "text": [
      "<class 'pandas.core.frame.DataFrame'>\n",
      "RangeIndex: 891 entries, 0 to 890\n",
      "Data columns (total 12 columns):\n",
      " #   Column       Non-Null Count  Dtype  \n",
      "---  ------       --------------  -----  \n",
      " 0   PassengerId  891 non-null    int64  \n",
      " 1   Survived     891 non-null    int64  \n",
      " 2   Pclass       891 non-null    int64  \n",
      " 3   Name         891 non-null    object \n",
      " 4   Sex          891 non-null    object \n",
      " 5   Age          891 non-null    float64\n",
      " 6   SibSp        891 non-null    int64  \n",
      " 7   Parch        891 non-null    int64  \n",
      " 8   Ticket       891 non-null    object \n",
      " 9   Fare         891 non-null    float64\n",
      " 10  Cabin        204 non-null    object \n",
      " 11  Embarked     889 non-null    object \n",
      "dtypes: float64(2), int64(5), object(5)\n",
      "memory usage: 83.7+ KB\n"
     ]
    }
   ],
   "source": [
    "train_df.info()"
   ]
  },
  {
   "cell_type": "code",
   "execution_count": null,
   "id": "4acd98b2",
   "metadata": {
    "papermill": {
     "duration": 0.010082,
     "end_time": "2023-10-22T14:06:54.984906",
     "exception": false,
     "start_time": "2023-10-22T14:06:54.974824",
     "status": "completed"
    },
    "tags": []
   },
   "outputs": [],
   "source": []
  },
  {
   "cell_type": "code",
   "execution_count": null,
   "id": "d9e0095b",
   "metadata": {
    "papermill": {
     "duration": 0.009646,
     "end_time": "2023-10-22T14:06:55.005015",
     "exception": false,
     "start_time": "2023-10-22T14:06:54.995369",
     "status": "completed"
    },
    "tags": []
   },
   "outputs": [],
   "source": []
  },
  {
   "cell_type": "code",
   "execution_count": 9,
   "id": "b290ee3c",
   "metadata": {
    "execution": {
     "iopub.execute_input": "2023-10-22T14:06:55.027153Z",
     "iopub.status.busy": "2023-10-22T14:06:55.026467Z",
     "iopub.status.idle": "2023-10-22T14:06:55.032656Z",
     "shell.execute_reply": "2023-10-22T14:06:55.031568Z"
    },
    "papermill": {
     "duration": 0.02014,
     "end_time": "2023-10-22T14:06:55.035214",
     "exception": false,
     "start_time": "2023-10-22T14:06:55.015074",
     "status": "completed"
    },
    "tags": []
   },
   "outputs": [],
   "source": [
    "encoder = LabelEncoder()\n",
    "train_df[\"Sex\"] = encoder.fit_transform(train_df[\"Sex\"])\n"
   ]
  },
  {
   "cell_type": "code",
   "execution_count": 10,
   "id": "30393727",
   "metadata": {
    "execution": {
     "iopub.execute_input": "2023-10-22T14:06:55.057022Z",
     "iopub.status.busy": "2023-10-22T14:06:55.056643Z",
     "iopub.status.idle": "2023-10-22T14:06:55.070727Z",
     "shell.execute_reply": "2023-10-22T14:06:55.069222Z"
    },
    "papermill": {
     "duration": 0.029091,
     "end_time": "2023-10-22T14:06:55.074235",
     "exception": false,
     "start_time": "2023-10-22T14:06:55.045144",
     "status": "completed"
    },
    "tags": []
   },
   "outputs": [
    {
     "name": "stdout",
     "output_type": "stream",
     "text": [
      "<class 'pandas.core.frame.DataFrame'>\n",
      "RangeIndex: 891 entries, 0 to 890\n",
      "Data columns (total 12 columns):\n",
      " #   Column       Non-Null Count  Dtype  \n",
      "---  ------       --------------  -----  \n",
      " 0   PassengerId  891 non-null    int64  \n",
      " 1   Survived     891 non-null    int64  \n",
      " 2   Pclass       891 non-null    int64  \n",
      " 3   Name         891 non-null    object \n",
      " 4   Sex          891 non-null    int64  \n",
      " 5   Age          891 non-null    float64\n",
      " 6   SibSp        891 non-null    int64  \n",
      " 7   Parch        891 non-null    int64  \n",
      " 8   Ticket       891 non-null    object \n",
      " 9   Fare         891 non-null    float64\n",
      " 10  Cabin        204 non-null    object \n",
      " 11  Embarked     889 non-null    object \n",
      "dtypes: float64(2), int64(6), object(4)\n",
      "memory usage: 83.7+ KB\n"
     ]
    }
   ],
   "source": [
    "train_df.info()"
   ]
  },
  {
   "cell_type": "code",
   "execution_count": 11,
   "id": "52a9cc16",
   "metadata": {
    "execution": {
     "iopub.execute_input": "2023-10-22T14:06:55.097799Z",
     "iopub.status.busy": "2023-10-22T14:06:55.096574Z",
     "iopub.status.idle": "2023-10-22T14:06:55.102602Z",
     "shell.execute_reply": "2023-10-22T14:06:55.101531Z"
    },
    "papermill": {
     "duration": 0.020596,
     "end_time": "2023-10-22T14:06:55.105502",
     "exception": false,
     "start_time": "2023-10-22T14:06:55.084906",
     "status": "completed"
    },
    "tags": []
   },
   "outputs": [],
   "source": [
    "features =  [\"Pclass\" ,\"Sex\" , \"Fare\" ,\"Age\" , \"SibSp\" , \"Parch\" ]"
   ]
  },
  {
   "cell_type": "code",
   "execution_count": 12,
   "id": "ab5d8fcc",
   "metadata": {
    "execution": {
     "iopub.execute_input": "2023-10-22T14:06:55.127315Z",
     "iopub.status.busy": "2023-10-22T14:06:55.126928Z",
     "iopub.status.idle": "2023-10-22T14:06:55.134782Z",
     "shell.execute_reply": "2023-10-22T14:06:55.133606Z"
    },
    "papermill": {
     "duration": 0.021752,
     "end_time": "2023-10-22T14:06:55.137318",
     "exception": false,
     "start_time": "2023-10-22T14:06:55.115566",
     "status": "completed"
    },
    "tags": []
   },
   "outputs": [],
   "source": [
    "x = train_df[features]\n",
    "target = train_df[\"Survived\"]"
   ]
  },
  {
   "cell_type": "code",
   "execution_count": 13,
   "id": "c965437a",
   "metadata": {
    "execution": {
     "iopub.execute_input": "2023-10-22T14:06:55.159752Z",
     "iopub.status.busy": "2023-10-22T14:06:55.159130Z",
     "iopub.status.idle": "2023-10-22T14:06:55.289318Z",
     "shell.execute_reply": "2023-10-22T14:06:55.288052Z"
    },
    "papermill": {
     "duration": 0.144788,
     "end_time": "2023-10-22T14:06:55.292232",
     "exception": false,
     "start_time": "2023-10-22T14:06:55.147444",
     "status": "completed"
    },
    "tags": []
   },
   "outputs": [],
   "source": [
    "from sklearn.model_selection import train_test_split\n",
    "x_train ,x_test , y_train ,y_test = train_test_split(x , target ,  test_size =.3 , random_state= 42)"
   ]
  },
  {
   "cell_type": "code",
   "execution_count": 14,
   "id": "f9baf4d2",
   "metadata": {
    "execution": {
     "iopub.execute_input": "2023-10-22T14:06:55.314255Z",
     "iopub.status.busy": "2023-10-22T14:06:55.313822Z",
     "iopub.status.idle": "2023-10-22T14:06:56.002584Z",
     "shell.execute_reply": "2023-10-22T14:06:56.001118Z"
    },
    "papermill": {
     "duration": 0.703006,
     "end_time": "2023-10-22T14:06:56.005447",
     "exception": false,
     "start_time": "2023-10-22T14:06:55.302441",
     "status": "completed"
    },
    "tags": []
   },
   "outputs": [],
   "source": [
    "from sklearn.ensemble import RandomForestClassifier\n",
    "model = RandomForestClassifier(n_estimators= 100 , max_depth= 10 ,random_state= 42)\n",
    "model.fit(x_train , y_train)\n",
    "y_predict = model.predict(x_test)\n"
   ]
  },
  {
   "cell_type": "code",
   "execution_count": 15,
   "id": "9e53932d",
   "metadata": {
    "execution": {
     "iopub.execute_input": "2023-10-22T14:06:56.027849Z",
     "iopub.status.busy": "2023-10-22T14:06:56.027409Z",
     "iopub.status.idle": "2023-10-22T14:06:56.047196Z",
     "shell.execute_reply": "2023-10-22T14:06:56.045605Z"
    },
    "papermill": {
     "duration": 0.034255,
     "end_time": "2023-10-22T14:06:56.049884",
     "exception": false,
     "start_time": "2023-10-22T14:06:56.015629",
     "status": "completed"
    },
    "tags": []
   },
   "outputs": [
    {
     "name": "stdout",
     "output_type": "stream",
     "text": [
      "              precision    recall  f1-score   support\n",
      "\n",
      "           0       0.80      0.90      0.84       157\n",
      "           1       0.82      0.68      0.74       111\n",
      "\n",
      "    accuracy                           0.81       268\n",
      "   macro avg       0.81      0.79      0.79       268\n",
      "weighted avg       0.81      0.81      0.80       268\n",
      "\n"
     ]
    }
   ],
   "source": [
    "from sklearn.metrics import classification_report , confusion_matrix\n",
    "clr = classification_report(y_test , y_predict)\n",
    "conm = confusion_matrix(y_test , y_predict)\n",
    "print(clr)\n"
   ]
  },
  {
   "cell_type": "code",
   "execution_count": 16,
   "id": "840cc8a1",
   "metadata": {
    "execution": {
     "iopub.execute_input": "2023-10-22T14:06:56.072284Z",
     "iopub.status.busy": "2023-10-22T14:06:56.071842Z",
     "iopub.status.idle": "2023-10-22T14:06:56.412440Z",
     "shell.execute_reply": "2023-10-22T14:06:56.411531Z"
    },
    "papermill": {
     "duration": 0.354446,
     "end_time": "2023-10-22T14:06:56.414965",
     "exception": false,
     "start_time": "2023-10-22T14:06:56.060519",
     "status": "completed"
    },
    "tags": []
   },
   "outputs": [
    {
     "data": {
      "text/plain": [
       "<Axes: >"
      ]
     },
     "execution_count": 16,
     "metadata": {},
     "output_type": "execute_result"
    },
    {
     "data": {
      "image/png": "[encoded data removed]",
      "text/plain": [
       "<Figure size 640x480 with 2 Axes>"
      ]
     },
     "metadata": {},
     "output_type": "display_data"
    }
   ],
   "source": [
    "sns.heatmap(conm , annot=True ,fmt = \".1f\")"
   ]
  },
  {
   "cell_type": "code",
   "execution_count": 17,
   "id": "152bde69",
   "metadata": {
    "execution": {
     "iopub.execute_input": "2023-10-22T14:06:56.438627Z",
     "iopub.status.busy": "2023-10-22T14:06:56.437875Z",
     "iopub.status.idle": "2023-10-22T14:06:56.444969Z",
     "shell.execute_reply": "2023-10-22T14:06:56.443895Z"
    },
    "papermill": {
     "duration": 0.022014,
     "end_time": "2023-10-22T14:06:56.447738",
     "exception": false,
     "start_time": "2023-10-22T14:06:56.425724",
     "status": "completed"
    },
    "tags": []
   },
   "outputs": [],
   "source": [
    "test_df[\"Sex\"] = encoder.fit_transform(test_df[\"Sex\"])\n",
    "test_df[\"Age\"] = test_df[\"Age\"].fillna(method = \"ffill\")\n",
    "test_df[\"Fare\"] = test_df[\"Fare\"].fillna(method = \"ffill\")"
   ]
  },
  {
   "cell_type": "code",
   "execution_count": 18,
   "id": "93cef4c8",
   "metadata": {
    "execution": {
     "iopub.execute_input": "2023-10-22T14:06:56.471266Z",
     "iopub.status.busy": "2023-10-22T14:06:56.470648Z",
     "iopub.status.idle": "2023-10-22T14:06:56.482887Z",
     "shell.execute_reply": "2023-10-22T14:06:56.482054Z"
    },
    "papermill": {
     "duration": 0.028315,
     "end_time": "2023-10-22T14:06:56.486886",
     "exception": false,
     "start_time": "2023-10-22T14:06:56.458571",
     "status": "completed"
    },
    "tags": []
   },
   "outputs": [
    {
     "name": "stdout",
     "output_type": "stream",
     "text": [
      "<class 'pandas.core.frame.DataFrame'>\n",
      "RangeIndex: 418 entries, 0 to 417\n",
      "Data columns (total 6 columns):\n",
      " #   Column  Non-Null Count  Dtype  \n",
      "---  ------  --------------  -----  \n",
      " 0   Pclass  418 non-null    int64  \n",
      " 1   Sex     418 non-null    int64  \n",
      " 2   Fare    418 non-null    float64\n",
      " 3   Age     418 non-null    float64\n",
      " 4   SibSp   418 non-null    int64  \n",
      " 5   Parch   418 non-null    int64  \n",
      "dtypes: float64(2), int64(4)\n",
      "memory usage: 19.7 KB\n"
     ]
    }
   ],
   "source": [
    "x_test = test_df[features]\n",
    "x_test.info()"
   ]
  },
  {
   "cell_type": "code",
   "execution_count": 19,
   "id": "46f480dc",
   "metadata": {
    "execution": {
     "iopub.execute_input": "2023-10-22T14:06:56.512625Z",
     "iopub.status.busy": "2023-10-22T14:06:56.511837Z",
     "iopub.status.idle": "2023-10-22T14:06:56.532935Z",
     "shell.execute_reply": "2023-10-22T14:06:56.531557Z"
    },
    "papermill": {
     "duration": 0.03632,
     "end_time": "2023-10-22T14:06:56.535785",
     "exception": false,
     "start_time": "2023-10-22T14:06:56.499465",
     "status": "completed"
    },
    "tags": []
   },
   "outputs": [],
   "source": [
    "predictions = model.predict(x_test)"
   ]
  },
  {
   "cell_type": "code",
   "execution_count": 20,
   "id": "8da0b6ca",
   "metadata": {
    "execution": {
     "iopub.execute_input": "2023-10-22T14:06:56.559340Z",
     "iopub.status.busy": "2023-10-22T14:06:56.558936Z",
     "iopub.status.idle": "2023-10-22T14:06:56.566067Z",
     "shell.execute_reply": "2023-10-22T14:06:56.564901Z"
    },
    "papermill": {
     "duration": 0.021881,
     "end_time": "2023-10-22T14:06:56.568448",
     "exception": false,
     "start_time": "2023-10-22T14:06:56.546567",
     "status": "completed"
    },
    "tags": []
   },
   "outputs": [
    {
     "data": {
      "text/plain": [
       "418"
      ]
     },
     "execution_count": 20,
     "metadata": {},
     "output_type": "execute_result"
    }
   ],
   "source": [
    "len(predictions)"
   ]
  },
  {
   "cell_type": "code",
   "execution_count": 21,
   "id": "45c88867",
   "metadata": {
    "execution": {
     "iopub.execute_input": "2023-10-22T14:06:56.592693Z",
     "iopub.status.busy": "2023-10-22T14:06:56.591606Z",
     "iopub.status.idle": "2023-10-22T14:06:56.597672Z",
     "shell.execute_reply": "2023-10-22T14:06:56.596400Z"
    },
    "papermill": {
     "duration": 0.021002,
     "end_time": "2023-10-22T14:06:56.600503",
     "exception": false,
     "start_time": "2023-10-22T14:06:56.579501",
     "status": "completed"
    },
    "tags": []
   },
   "outputs": [],
   "source": [
    "output = pd.DataFrame({\"PassengerId\" : test_df.PassengerId , \"Survived\" : predictions})"
   ]
  },
  {
   "cell_type": "code",
   "execution_count": 22,
   "id": "418c2a43",
   "metadata": {
    "execution": {
     "iopub.execute_input": "2023-10-22T14:06:56.624455Z",
     "iopub.status.busy": "2023-10-22T14:06:56.624028Z",
     "iopub.status.idle": "2023-10-22T14:06:56.633974Z",
     "shell.execute_reply": "2023-10-22T14:06:56.632855Z"
    },
    "papermill": {
     "duration": 0.025228,
     "end_time": "2023-10-22T14:06:56.636652",
     "exception": false,
     "start_time": "2023-10-22T14:06:56.611424",
     "status": "completed"
    },
    "tags": []
   },
   "outputs": [],
   "source": [
    "output.to_csv(\"mySubmition.csv\" , index =False)"
   ]
  },
  {
   "cell_type": "code",
   "execution_count": null,
   "id": "cc271d1a",
   "metadata": {
    "papermill": {
     "duration": 0.010666,
     "end_time": "2023-10-22T14:06:56.658262",
     "exception": false,
     "start_time": "2023-10-22T14:06:56.647596",
     "status": "completed"
    },
    "tags": []
   },
   "outputs": [],
   "source": []
  },
  {
   "cell_type": "code",
   "execution_count": null,
   "id": "f9618f8e",
   "metadata": {
    "papermill": {
     "duration": 0.010463,
     "end_time": "2023-10-22T14:06:56.679955",
     "exception": false,
     "start_time": "2023-10-22T14:06:56.669492",
     "status": "completed"
    },
    "tags": []
   },
   "outputs": [],
   "source": []
  }
 ],
 "metadata": {
  "kernelspec": {
   "display_name": "Python 3",
   "language": "python",
   "name": "python3"
  },
  "language_info": {
   "codemirror_mode": {
    "name": "ipython",
    "version": 3
   },
   "file_extension": ".py",
   "mimetype": "text/x-python",
   "name": "python",
   "nbconvert_exporter": "python",
   "pygments_lexer": "ipython3",
   "version": "3.10.12"
  },
  "papermill": {
   "default_parameters": {},
   "duration": 8.70512,
   "end_time": "2023-10-22T14:06:57.316041",
   "environment_variables": {},
   "exception": null,
   "input_path": "__notebook__.ipynb",
   "output_path": "__notebook__.ipynb",
   "parameters": {},
   "start_time": "2023-10-22T14:06:48.610921",
   "version": "2.4.0"
  }
 },
 "nbformat": 4,
 "nbformat_minor": 5
}
